{
 "cells": [
  {
   "cell_type": "markdown",
   "metadata": {},
   "source": [
    "# Sample WordCloud project with nltk dataset"
   ]
  },
  {
   "cell_type": "markdown",
   "metadata": {},
   "source": [
    "Download the nltk corpora if you need to get the dataset"
   ]
  },
  {
   "cell_type": "code",
   "execution_count": 1,
   "metadata": {},
   "outputs": [],
   "source": [
    "# import nltk\n",
    "# nltk.download()"
   ]
  },
  {
   "cell_type": "code",
   "execution_count": 2,
   "metadata": {},
   "outputs": [],
   "source": [
    "from nltk.corpus import abc, stopwords\n",
    "from collections import Counter\n",
    "import re"
   ]
  },
  {
   "cell_type": "markdown",
   "metadata": {},
   "source": [
    "### Limit the data to 300 most common words\n",
    "\n",
    "And remove 'stopwords'"
   ]
  },
  {
   "cell_type": "code",
   "execution_count": 3,
   "metadata": {},
   "outputs": [],
   "source": [
    "stopwords = stopwords.words('english')\n",
    "\n",
    "def get_300_words(filename, number_of_words=300):\n",
    "    name = filename[:-4]\n",
    "    return Counter(\n",
    "    [\n",
    "        word.lower() for word in abc.words(filename) \n",
    "        if re.search(\"\\w\", word) and not re.search(\"\\d\", word) and word.lower() not in stopwords\n",
    "    ]).most_common(number_of_words)\n",
    "\n",
    "science_words = {k: v for k, v in get_300_words('science.txt')}\n",
    "rural_words = {k: v for k, v in get_300_words('rural.txt')}"
   ]
  },
  {
   "cell_type": "markdown",
   "metadata": {},
   "source": [
    "### Remove the 'title' words from the dictionary since we will add them back later on ... special like"
   ]
  },
  {
   "cell_type": "code",
   "execution_count": 4,
   "metadata": {},
   "outputs": [
    {
     "data": {
      "text/plain": [
       "297"
      ]
     },
     "execution_count": 4,
     "metadata": {},
     "output_type": "execute_result"
    }
   ],
   "source": [
    "rural_words.pop('rural', None)\n",
    "science_words.pop('science', None)"
   ]
  },
  {
   "cell_type": "markdown",
   "metadata": {},
   "source": [
    "### Set the color scheme for the project"
   ]
  },
  {
   "cell_type": "code",
   "execution_count": 5,
   "metadata": {},
   "outputs": [],
   "source": [
    "default_color = 'red'\n",
    "\n",
    "colors = [\n",
    "    'hsl(203, 80%, 50%)',\n",
    "    'hsl(253, 80%, 50%)',\n",
    "    'hsl(103, 80%, 50%)',\n",
    "    'hsl(153, 80%, 50%)',\n",
    "    'hsl(53, 80%, 50%)',\n",
    "]"
   ]
  },
  {
   "cell_type": "markdown",
   "metadata": {},
   "source": [
    "### Use the example class provided in the docs to organize colors by group\n",
    "\n",
    "https://amueller.github.io/word_cloud/auto_examples/colored_by_group.html"
   ]
  },
  {
   "cell_type": "code",
   "execution_count": 6,
   "metadata": {},
   "outputs": [],
   "source": [
    "from wordcloud import get_single_color_func"
   ]
  },
  {
   "cell_type": "code",
   "execution_count": 7,
   "metadata": {},
   "outputs": [],
   "source": [
    "class GroupedColorFunc(object):\n",
    "    \"\"\"Create a color function object which assigns DIFFERENT SHADES of\n",
    "       specified colors to certain words based on the color to words mapping.\n",
    "\n",
    "       Uses wordcloud.get_single_color_func\n",
    "\n",
    "       Parameters\n",
    "       ----------\n",
    "       color_to_words : dict(str -> list(str))\n",
    "         A dictionary that maps a color to the list of words.\n",
    "\n",
    "       default_color : str\n",
    "         Color that will be assigned to a word that's not a member\n",
    "         of any value from color_to_words.\n",
    "    \"\"\"\n",
    "\n",
    "    def __init__(self, color_to_words, default_color):\n",
    "        self.color_func_to_words = [\n",
    "            (get_single_color_func(color), set(words))\n",
    "            for (color, words) in color_to_words.items()]\n",
    "\n",
    "        self.default_color_func = get_single_color_func(default_color)\n",
    "\n",
    "    def get_color_func(self, word):\n",
    "        \"\"\"Returns a single_color_func associated with the word\"\"\"\n",
    "        try:\n",
    "            color_func = next(\n",
    "                color_func for (color_func, words) in self.color_func_to_words\n",
    "                if word in words)\n",
    "        except StopIteration:\n",
    "            color_func = self.default_color_func\n",
    "\n",
    "        return color_func\n",
    "\n",
    "    def __call__(self, word, **kwargs):\n",
    "        return self.get_color_func(word)(word, **kwargs)\n"
   ]
  },
  {
   "cell_type": "markdown",
   "metadata": {},
   "source": [
    "### Break the words into 'color groups' evenly\n",
    "\n",
    "Based on the number of colors used and the number of words (default 300 - 1)"
   ]
  },
  {
   "cell_type": "code",
   "execution_count": 8,
   "metadata": {},
   "outputs": [],
   "source": [
    "from random import shuffle\n",
    "from math import ceil"
   ]
  },
  {
   "cell_type": "code",
   "execution_count": 9,
   "metadata": {},
   "outputs": [],
   "source": [
    "def get_color_groups(words, colors):\n",
    "    \n",
    "    words_list = list(words.keys())\n",
    "    \n",
    "    # Use ceil if the length of words is not a multiple of the length of colors\n",
    "    cnt = ceil(len(words_list)/len(colors))\n",
    "    \n",
    "    shuffle(words_list)\n",
    "    return {color: words_list[i*cnt:(i+1)*cnt] for i, color in enumerate(colors)}\n",
    "\n",
    "rural_color_groups = get_color_groups(rural_words, colors)\n",
    "\n",
    "science_color_groups = get_color_groups(science_words, colors)"
   ]
  },
  {
   "cell_type": "code",
   "execution_count": 10,
   "metadata": {},
   "outputs": [
    {
     "name": "stdout",
     "output_type": "stream",
     "text": [
      "hsl(203, 80%, 50%) 60\n",
      "hsl(253, 80%, 50%) 60\n",
      "hsl(103, 80%, 50%) 60\n",
      "hsl(153, 80%, 50%) 60\n",
      "hsl(53, 80%, 50%) 59\n"
     ]
    }
   ],
   "source": [
    "# Validate the counts for each color\n",
    "for k, v in rural_color_groups.items():\n",
    "    print(k, len(v))"
   ]
  },
  {
   "cell_type": "code",
   "execution_count": 11,
   "metadata": {},
   "outputs": [
    {
     "name": "stdout",
     "output_type": "stream",
     "text": [
      "hsl(203, 80%, 50%) 60\n",
      "hsl(253, 80%, 50%) 60\n",
      "hsl(103, 80%, 50%) 60\n",
      "hsl(153, 80%, 50%) 60\n",
      "hsl(53, 80%, 50%) 59\n"
     ]
    }
   ],
   "source": [
    "# Validate the counts for each color\n",
    "for k, v in science_color_groups.items():\n",
    "    print(k, len(v))"
   ]
  },
  {
   "cell_type": "markdown",
   "metadata": {},
   "source": [
    "### Prime time! Create the WordCloud and save the images"
   ]
  },
  {
   "cell_type": "code",
   "execution_count": 12,
   "metadata": {},
   "outputs": [],
   "source": [
    "from wordcloud import WordCloud"
   ]
  },
  {
   "cell_type": "code",
   "execution_count": 13,
   "metadata": {},
   "outputs": [
    {
     "name": "stdout",
     "output_type": "stream",
     "text": [
      "(('rural', 1.0), 513, (1095, 134), None, 'rgb(211, 0, 0)')\n",
      "(('science', 1.0), 365, (1292, 8), None, 'rgb(105, 0, 0)')\n",
      "Done!\n"
     ]
    }
   ],
   "source": [
    "def create_wordcloud(name, color_groups, words):\n",
    "\n",
    "    # Create a color function with multiple tones\n",
    "    color_func = GroupedColorFunc(color_groups, default_color)\n",
    "    \n",
    "    words[name] = 2*max(words.values())\n",
    "    \n",
    "    wordcloud = WordCloud(width=6*300, \n",
    "                          height=9*300, \n",
    "                          color_func=color_func).generate_from_frequencies(words)\n",
    "    wordcloud.to_file(\"./imgs/\" + name + \"_blk.png\")\n",
    "    \n",
    "    print(wordcloud.layout_[0])\n",
    "    \n",
    "create_wordcloud('rural', rural_color_groups, rural_words)\n",
    "create_wordcloud('science', science_color_groups, science_words)\n",
    "\n",
    "print('Done!')"
   ]
  },
  {
   "cell_type": "markdown",
   "metadata": {},
   "source": [
    "### Oops! The 'default' red color is being modified by the get_single_color_func() random state\n",
    "\n",
    "Wouldn't it be nice for the title word to be a nice consistent bright red color?"
   ]
  },
  {
   "cell_type": "code",
   "execution_count": 14,
   "metadata": {},
   "outputs": [],
   "source": [
    "class GroupedColorFunc(object):\n",
    "    \"\"\" Modify the provided class from WordCloud documentation\n",
    "        Set the self.default_color_fun in the __init__() method\n",
    "    \"\"\"\n",
    "\n",
    "    def __init__(self, color_to_words, default_color):\n",
    "        self.color_func_to_words = [\n",
    "            (get_single_color_func(color), set(words))\n",
    "            for (color, words) in color_to_words.items()]\n",
    "\n",
    "        # set the default color to always be 'red'\n",
    "        self.default_color_func = lambda *args, **kwargs: \"red\"\n",
    "\n",
    "    def get_color_func(self, word):\n",
    "        \"\"\"Returns a single_color_func associated with the word\"\"\"\n",
    "        try:\n",
    "            color_func = next(\n",
    "                color_func for (color_func, words) in self.color_func_to_words\n",
    "                if word in words)\n",
    "        except StopIteration:\n",
    "            color_func = self.default_color_func\n",
    "\n",
    "        return color_func\n",
    "\n",
    "    def __call__(self, word, **kwargs):\n",
    "        return self.get_color_func(word)(word, **kwargs)\n"
   ]
  },
  {
   "cell_type": "markdown",
   "metadata": {},
   "source": [
    "### Round 2! Create the WordCloud and save the images"
   ]
  },
  {
   "cell_type": "code",
   "execution_count": 15,
   "metadata": {},
   "outputs": [
    {
     "name": "stdout",
     "output_type": "stream",
     "text": [
      "(('rural', 1.0), 460, (1506, 271), None, 'red')\n",
      "(('science', 1.0), 328, (1627, 108), None, 'red')\n",
      "Done!\n"
     ]
    }
   ],
   "source": [
    "def create_wordcloud(name, color_groups, words):\n",
    "\n",
    "    # Create a color function with multiple tones\n",
    "    color_func = GroupedColorFunc(color_groups, default_color)\n",
    "    \n",
    "    words[name] = 2*max(words.values())\n",
    "    \n",
    "    wordcloud = WordCloud(width=6*300, \n",
    "                          height=9*300, \n",
    "                          color_func=color_func).generate_from_frequencies(words)\n",
    "    wordcloud.to_file(\"./imgs/\" + name + \"_blk.png\")\n",
    "    \n",
    "    print(wordcloud.layout_[0])\n",
    "    \n",
    "create_wordcloud('rural', rural_color_groups, rural_words)\n",
    "create_wordcloud('science', science_color_groups, science_words)\n",
    "\n",
    "print('Done!')"
   ]
  },
  {
   "cell_type": "markdown",
   "metadata": {},
   "source": [
    "### That's better! Nice and bright!"
   ]
  },
  {
   "cell_type": "code",
   "execution_count": null,
   "metadata": {},
   "outputs": [],
   "source": []
  }
 ],
 "metadata": {
  "kernelspec": {
   "display_name": "Python 3",
   "language": "python",
   "name": "python3"
  },
  "language_info": {
   "codemirror_mode": {
    "name": "ipython",
    "version": 3
   },
   "file_extension": ".py",
   "mimetype": "text/x-python",
   "name": "python",
   "nbconvert_exporter": "python",
   "pygments_lexer": "ipython3",
   "version": "3.6.8"
  }
 },
 "nbformat": 4,
 "nbformat_minor": 2
}
